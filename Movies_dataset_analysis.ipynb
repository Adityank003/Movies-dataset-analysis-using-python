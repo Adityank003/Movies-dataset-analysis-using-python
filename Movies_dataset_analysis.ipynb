{
 "cells": [
  {
   "cell_type": "markdown",
   "metadata": {},
   "source": [
    "**Digging Deep into the Plot**\n",
    "\n",
    "Cinema is always an Interesting topic.Those Frames,Actions,Thrilling story line, Artwork everything is exciting.And yes even the dataset is also exciting.We have around 45,000 movie data here collected from TMDB. I will try to explore statistical information from the dataset with Plots and Graphs."
   ]
  },
  {
   "cell_type": "code",
   "execution_count": 1,
   "metadata": {
    "_cell_guid": "67fb77ea-072a-4044-a36a-7f3737bce769",
    "_kg_hide-input": false,
    "_kg_hide-output": false,
    "_uuid": "565b5525070c27b8ddde41d6d6ea7f5620ce902d"
   },
   "outputs": [
    {
     "name": "stderr",
     "output_type": "stream",
     "text": [
      "/opt/conda/lib/python3.6/site-packages/IPython/core/interactiveshell.py:2717: DtypeWarning: Columns (10) have mixed types. Specify dtype option on import or set low_memory=False.\n",
      "  interactivity=interactivity, compiler=compiler, result=result)\n"
     ]
    }
   ],
   "source": [
    "#import necessary modules\n",
    "\n",
    "import json\n",
    "import datetime\n",
    "import ast\n",
    "import matplotlib.pyplot as plt\n",
    "import seaborn as sns\n",
    "import numpy as np # linear algebra\n",
    "import pandas as pd # data processing, CSV file I/O (e.g. pd.read_csv)\n",
    "\n",
    "#importing dataset (csv file)\n",
    "data = pd.read_csv('../input/movies_metadata.csv')\n"
   ]
  },
  {
   "cell_type": "markdown",
   "metadata": {},
   "source": [
    "**Understanding the Data**\n",
    "\n",
    "Before Performing our operations on Dataset will try to get the basic information about the data,i.e the number of columns,what they are and their datatypes. And total null values in a specific column. \n",
    "\n",
    "\n"
   ]
  },
  {
   "cell_type": "code",
   "execution_count": 2,
   "metadata": {},
   "outputs": [
    {
     "data": {
      "text/plain": [
       "Index(['adult', 'belongs_to_collection', 'budget', 'genres', 'homepage', 'id',\n",
       "       'imdb_id', 'original_language', 'original_title', 'overview',\n",
       "       'popularity', 'poster_path', 'production_companies',\n",
       "       'production_countries', 'release_date', 'revenue', 'runtime',\n",
       "       'spoken_languages', 'status', 'tagline', 'title', 'video',\n",
       "       'vote_average', 'vote_count'],\n",
       "      dtype='object')"
      ]
     },
     "execution_count": 2,
     "metadata": {},
     "output_type": "execute_result"
    }
   ],
   "source": [
    "data.columns"
   ]
  },
  {
   "cell_type": "code",
   "execution_count": 3,
   "metadata": {},
   "outputs": [
    {
     "name": "stdout",
     "output_type": "stream",
     "text": [
      "<class 'pandas.core.frame.DataFrame'>\n",
      "RangeIndex: 45466 entries, 0 to 45465\n",
      "Data columns (total 24 columns):\n",
      "adult                    45466 non-null object\n",
      "belongs_to_collection    4494 non-null object\n",
      "budget                   45466 non-null object\n",
      "genres                   45466 non-null object\n",
      "homepage                 7782 non-null object\n",
      "id                       45466 non-null object\n",
      "imdb_id                  45449 non-null object\n",
      "original_language        45455 non-null object\n",
      "original_title           45466 non-null object\n",
      "overview                 44512 non-null object\n",
      "popularity               45461 non-null object\n",
      "poster_path              45080 non-null object\n",
      "production_companies     45463 non-null object\n",
      "production_countries     45463 non-null object\n",
      "release_date             45379 non-null object\n",
      "revenue                  45460 non-null float64\n",
      "runtime                  45203 non-null float64\n",
      "spoken_languages         45460 non-null object\n",
      "status                   45379 non-null object\n",
      "tagline                  20412 non-null object\n",
      "title                    45460 non-null object\n",
      "video                    45460 non-null object\n",
      "vote_average             45460 non-null float64\n",
      "vote_count               45460 non-null float64\n",
      "dtypes: float64(4), object(20)\n",
      "memory usage: 8.3+ MB\n"
     ]
    }
   ],
   "source": [
    "data.info()"
   ]
  },
  {
   "cell_type": "markdown",
   "metadata": {},
   "source": [
    "**Identifying the important columns and cleaning the data**\n",
    "\n",
    "Now we will identify the important columns that we will work with in this project. We can extract meaningful data from following columns,\n",
    "\n",
    "* adult\n",
    "* budget\n",
    "* revenue\n",
    "* popularity\n",
    "* title\n",
    "* vote_count\n",
    "* vote_average\n",
    "* release_date\n",
    "* runtime\n",
    "\n",
    "\n",
    "Now as we can see some features has NaN values and columns like budget are in Object type which is not a suitable one to perform operations.So will convert that into float and will extract only year from release_date.\n"
   ]
  },
  {
   "cell_type": "code",
   "execution_count": 4,
   "metadata": {
    "collapsed": true
   },
   "outputs": [],
   "source": [
    "#Converting to float and replacing '0' wit NaN\n",
    "data['popularity'] = pd.to_numeric(data['popularity'], errors='coerce')\n",
    "data['popularity'] = data['popularity'].replace(0, np.nan)\n",
    "\n",
    "data['budget'] = pd.to_numeric(data['budget'], errors='coerce')\n",
    "data['budget'] = data['budget'].replace(0, np.nan)\n",
    "\n",
    "data['revenue'] = data['revenue'].replace(0, np.nan)\n",
    "\n",
    "#Extracting Only year in release_date to make it simpler\n",
    "data['year'] = pd.to_datetime(data['release_date'], errors='coerce').apply(lambda x: str(x).split('-')[0] if x != np.nan else np.nan)\n",
    "\n",
    "data['runtime'] = data['runtime'].astype('float')\n",
    "data['vote_average'] = data['vote_average'].astype('float')\n",
    "data['vote_count'] = data['vote_count'].astype('float')"
   ]
  },
  {
   "cell_type": "markdown",
   "metadata": {},
   "source": [
    "**Budget and Revenue:**\n",
    "\n",
    "A movie attracts many people in many ways, some may like the plot,songs,action bla bla. But when it comes to business end the equation is clear cut,How much did it earn? what is the % of return? So will analyse the budget and revenue aspects below. "
   ]
  },
  {
   "cell_type": "code",
   "execution_count": 5,
   "metadata": {},
   "outputs": [
    {
     "data": {
      "text/html": [
       "<div>\n",
       "<style scoped>\n",
       "    .dataframe tbody tr th:only-of-type {\n",
       "        vertical-align: middle;\n",
       "    }\n",
       "\n",
       "    .dataframe tbody tr th {\n",
       "        vertical-align: top;\n",
       "    }\n",
       "\n",
       "    .dataframe thead th {\n",
       "        text-align: right;\n",
       "    }\n",
       "</style>\n",
       "<table border=\"1\" class=\"dataframe\">\n",
       "  <thead>\n",
       "    <tr style=\"text-align: right;\">\n",
       "      <th></th>\n",
       "      <th>title</th>\n",
       "      <th>budget</th>\n",
       "      <th>revenue</th>\n",
       "      <th>year</th>\n",
       "    </tr>\n",
       "  </thead>\n",
       "  <tbody>\n",
       "    <tr>\n",
       "      <th>17124</th>\n",
       "      <td>Pirates of the Caribbean: On Stranger Tides</td>\n",
       "      <td>380000000.0</td>\n",
       "      <td>1.045714e+09</td>\n",
       "      <td>2011</td>\n",
       "    </tr>\n",
       "    <tr>\n",
       "      <th>11827</th>\n",
       "      <td>Pirates of the Caribbean: At World's End</td>\n",
       "      <td>300000000.0</td>\n",
       "      <td>9.610000e+08</td>\n",
       "      <td>2007</td>\n",
       "    </tr>\n",
       "    <tr>\n",
       "      <th>26558</th>\n",
       "      <td>Avengers: Age of Ultron</td>\n",
       "      <td>280000000.0</td>\n",
       "      <td>1.405404e+09</td>\n",
       "      <td>2015</td>\n",
       "    </tr>\n",
       "    <tr>\n",
       "      <th>11067</th>\n",
       "      <td>Superman Returns</td>\n",
       "      <td>270000000.0</td>\n",
       "      <td>3.910812e+08</td>\n",
       "      <td>2006</td>\n",
       "    </tr>\n",
       "    <tr>\n",
       "      <th>44842</th>\n",
       "      <td>Transformers: The Last Knight</td>\n",
       "      <td>260000000.0</td>\n",
       "      <td>6.049421e+08</td>\n",
       "      <td>2017</td>\n",
       "    </tr>\n",
       "    <tr>\n",
       "      <th>16130</th>\n",
       "      <td>Tangled</td>\n",
       "      <td>260000000.0</td>\n",
       "      <td>5.917949e+08</td>\n",
       "      <td>2010</td>\n",
       "    </tr>\n",
       "    <tr>\n",
       "      <th>18685</th>\n",
       "      <td>John Carter</td>\n",
       "      <td>260000000.0</td>\n",
       "      <td>2.841391e+08</td>\n",
       "      <td>2012</td>\n",
       "    </tr>\n",
       "    <tr>\n",
       "      <th>11780</th>\n",
       "      <td>Spider-Man 3</td>\n",
       "      <td>258000000.0</td>\n",
       "      <td>8.908716e+08</td>\n",
       "      <td>2007</td>\n",
       "    </tr>\n",
       "    <tr>\n",
       "      <th>21175</th>\n",
       "      <td>The Lone Ranger</td>\n",
       "      <td>255000000.0</td>\n",
       "      <td>8.928991e+07</td>\n",
       "      <td>2013</td>\n",
       "    </tr>\n",
       "    <tr>\n",
       "      <th>22059</th>\n",
       "      <td>The Hobbit: The Desolation of Smaug</td>\n",
       "      <td>250000000.0</td>\n",
       "      <td>9.584000e+08</td>\n",
       "      <td>2013</td>\n",
       "    </tr>\n",
       "  </tbody>\n",
       "</table>\n",
       "</div>"
      ],
      "text/plain": [
       "                                             title       budget       revenue  \\\n",
       "17124  Pirates of the Caribbean: On Stranger Tides  380000000.0  1.045714e+09   \n",
       "11827     Pirates of the Caribbean: At World's End  300000000.0  9.610000e+08   \n",
       "26558                      Avengers: Age of Ultron  280000000.0  1.405404e+09   \n",
       "11067                             Superman Returns  270000000.0  3.910812e+08   \n",
       "44842                Transformers: The Last Knight  260000000.0  6.049421e+08   \n",
       "16130                                      Tangled  260000000.0  5.917949e+08   \n",
       "18685                                  John Carter  260000000.0  2.841391e+08   \n",
       "11780                                 Spider-Man 3  258000000.0  8.908716e+08   \n",
       "21175                              The Lone Ranger  255000000.0  8.928991e+07   \n",
       "22059          The Hobbit: The Desolation of Smaug  250000000.0  9.584000e+08   \n",
       "\n",
       "       year  \n",
       "17124  2011  \n",
       "11827  2007  \n",
       "26558  2015  \n",
       "11067  2006  \n",
       "44842  2017  \n",
       "16130  2010  \n",
       "18685  2012  \n",
       "11780  2007  \n",
       "21175  2013  \n",
       "22059  2013  "
      ]
     },
     "execution_count": 5,
     "metadata": {},
     "output_type": "execute_result"
    }
   ],
   "source": [
    "data[data['budget'].notnull()][['title', 'budget', 'revenue', 'year']].sort_values('budget', ascending=False).head(10)\n"
   ]
  },
  {
   "cell_type": "markdown",
   "metadata": {},
   "source": [
    "Above is the Top 10 movies with **Highest budget**. **Pirates of the Caribbean** franchise Tops with 2 spots.\n",
    "You can get Movies with lowest budget by just replacing **head() **with **tail()**\n",
    "\n",
    "Now lets see Top 10 Movies with **Maximum Revenue**"
   ]
  },
  {
   "cell_type": "code",
   "execution_count": 6,
   "metadata": {},
   "outputs": [
    {
     "data": {
      "text/html": [
       "<div>\n",
       "<style scoped>\n",
       "    .dataframe tbody tr th:only-of-type {\n",
       "        vertical-align: middle;\n",
       "    }\n",
       "\n",
       "    .dataframe tbody tr th {\n",
       "        vertical-align: top;\n",
       "    }\n",
       "\n",
       "    .dataframe thead th {\n",
       "        text-align: right;\n",
       "    }\n",
       "</style>\n",
       "<table border=\"1\" class=\"dataframe\">\n",
       "  <thead>\n",
       "    <tr style=\"text-align: right;\">\n",
       "      <th></th>\n",
       "      <th>title</th>\n",
       "      <th>budget</th>\n",
       "      <th>revenue</th>\n",
       "      <th>year</th>\n",
       "    </tr>\n",
       "  </thead>\n",
       "  <tbody>\n",
       "    <tr>\n",
       "      <th>14551</th>\n",
       "      <td>Avatar</td>\n",
       "      <td>237000000.0</td>\n",
       "      <td>2.787965e+09</td>\n",
       "      <td>2009</td>\n",
       "    </tr>\n",
       "    <tr>\n",
       "      <th>26555</th>\n",
       "      <td>Star Wars: The Force Awakens</td>\n",
       "      <td>245000000.0</td>\n",
       "      <td>2.068224e+09</td>\n",
       "      <td>2015</td>\n",
       "    </tr>\n",
       "    <tr>\n",
       "      <th>1639</th>\n",
       "      <td>Titanic</td>\n",
       "      <td>200000000.0</td>\n",
       "      <td>1.845034e+09</td>\n",
       "      <td>1997</td>\n",
       "    </tr>\n",
       "    <tr>\n",
       "      <th>17818</th>\n",
       "      <td>The Avengers</td>\n",
       "      <td>220000000.0</td>\n",
       "      <td>1.519558e+09</td>\n",
       "      <td>2012</td>\n",
       "    </tr>\n",
       "    <tr>\n",
       "      <th>25084</th>\n",
       "      <td>Jurassic World</td>\n",
       "      <td>150000000.0</td>\n",
       "      <td>1.513529e+09</td>\n",
       "      <td>2015</td>\n",
       "    </tr>\n",
       "    <tr>\n",
       "      <th>28830</th>\n",
       "      <td>Furious 7</td>\n",
       "      <td>190000000.0</td>\n",
       "      <td>1.506249e+09</td>\n",
       "      <td>2015</td>\n",
       "    </tr>\n",
       "    <tr>\n",
       "      <th>26558</th>\n",
       "      <td>Avengers: Age of Ultron</td>\n",
       "      <td>280000000.0</td>\n",
       "      <td>1.405404e+09</td>\n",
       "      <td>2015</td>\n",
       "    </tr>\n",
       "    <tr>\n",
       "      <th>17437</th>\n",
       "      <td>Harry Potter and the Deathly Hallows: Part 2</td>\n",
       "      <td>125000000.0</td>\n",
       "      <td>1.342000e+09</td>\n",
       "      <td>2011</td>\n",
       "    </tr>\n",
       "    <tr>\n",
       "      <th>22110</th>\n",
       "      <td>Frozen</td>\n",
       "      <td>150000000.0</td>\n",
       "      <td>1.274219e+09</td>\n",
       "      <td>2013</td>\n",
       "    </tr>\n",
       "    <tr>\n",
       "      <th>42222</th>\n",
       "      <td>Beauty and the Beast</td>\n",
       "      <td>160000000.0</td>\n",
       "      <td>1.262886e+09</td>\n",
       "      <td>2017</td>\n",
       "    </tr>\n",
       "  </tbody>\n",
       "</table>\n",
       "</div>"
      ],
      "text/plain": [
       "                                              title       budget  \\\n",
       "14551                                        Avatar  237000000.0   \n",
       "26555                  Star Wars: The Force Awakens  245000000.0   \n",
       "1639                                        Titanic  200000000.0   \n",
       "17818                                  The Avengers  220000000.0   \n",
       "25084                                Jurassic World  150000000.0   \n",
       "28830                                     Furious 7  190000000.0   \n",
       "26558                       Avengers: Age of Ultron  280000000.0   \n",
       "17437  Harry Potter and the Deathly Hallows: Part 2  125000000.0   \n",
       "22110                                        Frozen  150000000.0   \n",
       "42222                          Beauty and the Beast  160000000.0   \n",
       "\n",
       "            revenue  year  \n",
       "14551  2.787965e+09  2009  \n",
       "26555  2.068224e+09  2015  \n",
       "1639   1.845034e+09  1997  \n",
       "17818  1.519558e+09  2012  \n",
       "25084  1.513529e+09  2015  \n",
       "28830  1.506249e+09  2015  \n",
       "26558  1.405404e+09  2015  \n",
       "17437  1.342000e+09  2011  \n",
       "22110  1.274219e+09  2013  \n",
       "42222  1.262886e+09  2017  "
      ]
     },
     "execution_count": 6,
     "metadata": {},
     "output_type": "execute_result"
    }
   ],
   "source": [
    "data[data['revenue'].notnull()][['title', 'budget', 'revenue', 'year']].sort_values('revenue', ascending=False).head(10)\n"
   ]
  },
  {
   "cell_type": "markdown",
   "metadata": {},
   "source": [
    "**Avatar** turns out to be the highest earning film. No wonder. But Guess what? I have not watched it yet.\n",
    "Happy to see **Harry Potter** in the list.My personal favorite.\n",
    "\n",
    "**\n",
    "Now Will analyse the Revenue trend over the past century. **\n",
    "Here is what we need to do for that,\n",
    "* First will get the movie rows in which revenue field is not null.\n",
    "* Will make a dataframe with only 2 columns i.e year and revenue.\n",
    "* Now will groupby year - which gives total movies in a particular year.\n",
    "* Will take the mean of revenue of each year.\n",
    "* Finally will plot it using Matplot.\n",
    "So let's Implement"
   ]
  },
  {
   "cell_type": "code",
   "execution_count": 7,
   "metadata": {},
   "outputs": [
    {
     "data": {
      "text/plain": [
       "<matplotlib.axes._subplots.AxesSubplot at 0x7f31240cf5c0>"
      ]
     },
     "execution_count": 7,
     "metadata": {},
     "output_type": "execute_result"
    },
    {
     "data": {
      "image/png": "[encoded data removed]",
      "text/plain": [
       "<matplotlib.figure.Figure at 0x7f3123e45da0>"
      ]
     },
     "metadata": {},
     "output_type": "display_data"
    }
   ],
   "source": [
    "year_rev = (data[data['revenue'].notnull()][['year','revenue']].groupby('year').mean())\n",
    "year_rev.plot(figsize=(18,8))"
   ]
  },
  {
   "cell_type": "markdown",
   "metadata": {},
   "source": [
    "**So Now let's  Concentarte on Vote Count,Vote average and Popularity of movies.**\n",
    "\n",
    "Will get Top 10 Movies with Most vote counts and Max vote average.\n",
    "\n",
    "Here is a twist, While extracting Vote average we need to consider movies with atleast 3000 votes to be a fare data. "
   ]
  },
  {
   "cell_type": "code",
   "execution_count": 8,
   "metadata": {},
   "outputs": [
    {
     "data": {
      "text/html": [
       "<div>\n",
       "<style scoped>\n",
       "    .dataframe tbody tr th:only-of-type {\n",
       "        vertical-align: middle;\n",
       "    }\n",
       "\n",
       "    .dataframe tbody tr th {\n",
       "        vertical-align: top;\n",
       "    }\n",
       "\n",
       "    .dataframe thead th {\n",
       "        text-align: right;\n",
       "    }\n",
       "</style>\n",
       "<table border=\"1\" class=\"dataframe\">\n",
       "  <thead>\n",
       "    <tr style=\"text-align: right;\">\n",
       "      <th></th>\n",
       "      <th>title</th>\n",
       "      <th>revenue</th>\n",
       "      <th>year</th>\n",
       "      <th>vote_count</th>\n",
       "    </tr>\n",
       "  </thead>\n",
       "  <tbody>\n",
       "    <tr>\n",
       "      <th>15480</th>\n",
       "      <td>Inception</td>\n",
       "      <td>8.255328e+08</td>\n",
       "      <td>2010</td>\n",
       "      <td>14075.0</td>\n",
       "    </tr>\n",
       "    <tr>\n",
       "      <th>12481</th>\n",
       "      <td>The Dark Knight</td>\n",
       "      <td>1.004558e+09</td>\n",
       "      <td>2008</td>\n",
       "      <td>12269.0</td>\n",
       "    </tr>\n",
       "    <tr>\n",
       "      <th>14551</th>\n",
       "      <td>Avatar</td>\n",
       "      <td>2.787965e+09</td>\n",
       "      <td>2009</td>\n",
       "      <td>12114.0</td>\n",
       "    </tr>\n",
       "    <tr>\n",
       "      <th>17818</th>\n",
       "      <td>The Avengers</td>\n",
       "      <td>1.519558e+09</td>\n",
       "      <td>2012</td>\n",
       "      <td>12000.0</td>\n",
       "    </tr>\n",
       "    <tr>\n",
       "      <th>26564</th>\n",
       "      <td>Deadpool</td>\n",
       "      <td>7.831130e+08</td>\n",
       "      <td>2016</td>\n",
       "      <td>11444.0</td>\n",
       "    </tr>\n",
       "    <tr>\n",
       "      <th>22879</th>\n",
       "      <td>Interstellar</td>\n",
       "      <td>6.751200e+08</td>\n",
       "      <td>2014</td>\n",
       "      <td>11187.0</td>\n",
       "    </tr>\n",
       "    <tr>\n",
       "      <th>20051</th>\n",
       "      <td>Django Unchained</td>\n",
       "      <td>4.253682e+08</td>\n",
       "      <td>2012</td>\n",
       "      <td>10297.0</td>\n",
       "    </tr>\n",
       "    <tr>\n",
       "      <th>23753</th>\n",
       "      <td>Guardians of the Galaxy</td>\n",
       "      <td>7.733286e+08</td>\n",
       "      <td>2014</td>\n",
       "      <td>10014.0</td>\n",
       "    </tr>\n",
       "    <tr>\n",
       "      <th>2843</th>\n",
       "      <td>Fight Club</td>\n",
       "      <td>1.008538e+08</td>\n",
       "      <td>1999</td>\n",
       "      <td>9678.0</td>\n",
       "    </tr>\n",
       "    <tr>\n",
       "      <th>18244</th>\n",
       "      <td>The Hunger Games</td>\n",
       "      <td>6.912107e+08</td>\n",
       "      <td>2012</td>\n",
       "      <td>9634.0</td>\n",
       "    </tr>\n",
       "  </tbody>\n",
       "</table>\n",
       "</div>"
      ],
      "text/plain": [
       "                         title       revenue  year  vote_count\n",
       "15480                Inception  8.255328e+08  2010     14075.0\n",
       "12481          The Dark Knight  1.004558e+09  2008     12269.0\n",
       "14551                   Avatar  2.787965e+09  2009     12114.0\n",
       "17818             The Avengers  1.519558e+09  2012     12000.0\n",
       "26564                 Deadpool  7.831130e+08  2016     11444.0\n",
       "22879             Interstellar  6.751200e+08  2014     11187.0\n",
       "20051         Django Unchained  4.253682e+08  2012     10297.0\n",
       "23753  Guardians of the Galaxy  7.733286e+08  2014     10014.0\n",
       "2843                Fight Club  1.008538e+08  1999      9678.0\n",
       "18244         The Hunger Games  6.912107e+08  2012      9634.0"
      ]
     },
     "execution_count": 8,
     "metadata": {},
     "output_type": "execute_result"
    }
   ],
   "source": [
    "data[data['vote_count'].notnull()][['title','revenue', 'year','vote_count']].sort_values('vote_count', ascending=False).head(10)"
   ]
  },
  {
   "cell_type": "code",
   "execution_count": 9,
   "metadata": {},
   "outputs": [
    {
     "data": {
      "text/html": [
       "<div>\n",
       "<style scoped>\n",
       "    .dataframe tbody tr th:only-of-type {\n",
       "        vertical-align: middle;\n",
       "    }\n",
       "\n",
       "    .dataframe tbody tr th {\n",
       "        vertical-align: top;\n",
       "    }\n",
       "\n",
       "    .dataframe thead th {\n",
       "        text-align: right;\n",
       "    }\n",
       "</style>\n",
       "<table border=\"1\" class=\"dataframe\">\n",
       "  <thead>\n",
       "    <tr style=\"text-align: right;\">\n",
       "      <th></th>\n",
       "      <th>title</th>\n",
       "      <th>revenue</th>\n",
       "      <th>year</th>\n",
       "      <th>vote_average</th>\n",
       "    </tr>\n",
       "  </thead>\n",
       "  <tbody>\n",
       "    <tr>\n",
       "      <th>314</th>\n",
       "      <td>The Shawshank Redemption</td>\n",
       "      <td>2.834147e+07</td>\n",
       "      <td>1994</td>\n",
       "      <td>8.5</td>\n",
       "    </tr>\n",
       "    <tr>\n",
       "      <th>834</th>\n",
       "      <td>The Godfather</td>\n",
       "      <td>2.450664e+08</td>\n",
       "      <td>1972</td>\n",
       "      <td>8.5</td>\n",
       "    </tr>\n",
       "    <tr>\n",
       "      <th>522</th>\n",
       "      <td>Schindler's List</td>\n",
       "      <td>3.213656e+08</td>\n",
       "      <td>1993</td>\n",
       "      <td>8.3</td>\n",
       "    </tr>\n",
       "    <tr>\n",
       "      <th>1178</th>\n",
       "      <td>The Godfather: Part II</td>\n",
       "      <td>4.754284e+07</td>\n",
       "      <td>1974</td>\n",
       "      <td>8.3</td>\n",
       "    </tr>\n",
       "    <tr>\n",
       "      <th>2843</th>\n",
       "      <td>Fight Club</td>\n",
       "      <td>1.008538e+08</td>\n",
       "      <td>1999</td>\n",
       "      <td>8.3</td>\n",
       "    </tr>\n",
       "    <tr>\n",
       "      <th>2211</th>\n",
       "      <td>Life Is Beautiful</td>\n",
       "      <td>2.294000e+08</td>\n",
       "      <td>1997</td>\n",
       "      <td>8.3</td>\n",
       "    </tr>\n",
       "    <tr>\n",
       "      <th>1152</th>\n",
       "      <td>One Flew Over the Cuckoo's Nest</td>\n",
       "      <td>1.089813e+08</td>\n",
       "      <td>1975</td>\n",
       "      <td>8.3</td>\n",
       "    </tr>\n",
       "    <tr>\n",
       "      <th>292</th>\n",
       "      <td>Pulp Fiction</td>\n",
       "      <td>2.139288e+08</td>\n",
       "      <td>1994</td>\n",
       "      <td>8.3</td>\n",
       "    </tr>\n",
       "    <tr>\n",
       "      <th>12481</th>\n",
       "      <td>The Dark Knight</td>\n",
       "      <td>1.004558e+09</td>\n",
       "      <td>2008</td>\n",
       "      <td>8.3</td>\n",
       "    </tr>\n",
       "    <tr>\n",
       "      <th>5481</th>\n",
       "      <td>Spirited Away</td>\n",
       "      <td>2.749251e+08</td>\n",
       "      <td>2001</td>\n",
       "      <td>8.3</td>\n",
       "    </tr>\n",
       "  </tbody>\n",
       "</table>\n",
       "</div>"
      ],
      "text/plain": [
       "                                 title       revenue  year  vote_average\n",
       "314           The Shawshank Redemption  2.834147e+07  1994           8.5\n",
       "834                      The Godfather  2.450664e+08  1972           8.5\n",
       "522                   Schindler's List  3.213656e+08  1993           8.3\n",
       "1178            The Godfather: Part II  4.754284e+07  1974           8.3\n",
       "2843                        Fight Club  1.008538e+08  1999           8.3\n",
       "2211                 Life Is Beautiful  2.294000e+08  1997           8.3\n",
       "1152   One Flew Over the Cuckoo's Nest  1.089813e+08  1975           8.3\n",
       "292                       Pulp Fiction  2.139288e+08  1994           8.3\n",
       "12481                  The Dark Knight  1.004558e+09  2008           8.3\n",
       "5481                     Spirited Away  2.749251e+08  2001           8.3"
      ]
     },
     "execution_count": 9,
     "metadata": {},
     "output_type": "execute_result"
    }
   ],
   "source": [
    "data[data['vote_count'] > 3000][['title','revenue', 'year','vote_average']].sort_values('vote_average', ascending=False).head(10)"
   ]
  },
  {
   "cell_type": "markdown",
   "metadata": {},
   "source": [
    "Well well well **Inception** tops with 14k votes. No Wonder as its been discussed all over Internet. And **The Dark night** behind it. Hatsoff to **Christopher Nolan.**\n",
    "\n",
    "**The Godfather,\n",
    "The Shawshank Redemption,\n",
    "Schindler's List** All deserved to be in the spot.\n"
   ]
  },
  {
   "cell_type": "markdown",
   "metadata": {},
   "source": [
    "Now Will get the Most popular movies of all time. Excited? Oh yes,I'm. I hope **Harry Potter** makes it to the list.Let's see."
   ]
  },
  {
   "cell_type": "code",
   "execution_count": 10,
   "metadata": {},
   "outputs": [
    {
     "data": {
      "text/html": [
       "<div>\n",
       "<style scoped>\n",
       "    .dataframe tbody tr th:only-of-type {\n",
       "        vertical-align: middle;\n",
       "    }\n",
       "\n",
       "    .dataframe tbody tr th {\n",
       "        vertical-align: top;\n",
       "    }\n",
       "\n",
       "    .dataframe thead th {\n",
       "        text-align: right;\n",
       "    }\n",
       "</style>\n",
       "<table border=\"1\" class=\"dataframe\">\n",
       "  <thead>\n",
       "    <tr style=\"text-align: right;\">\n",
       "      <th></th>\n",
       "      <th>title</th>\n",
       "      <th>popularity</th>\n",
       "    </tr>\n",
       "  </thead>\n",
       "  <tbody>\n",
       "    <tr>\n",
       "      <th>30700</th>\n",
       "      <td>Minions</td>\n",
       "      <td>547.488298</td>\n",
       "    </tr>\n",
       "    <tr>\n",
       "      <th>33356</th>\n",
       "      <td>Wonder Woman</td>\n",
       "      <td>294.337037</td>\n",
       "    </tr>\n",
       "    <tr>\n",
       "      <th>42222</th>\n",
       "      <td>Beauty and the Beast</td>\n",
       "      <td>287.253654</td>\n",
       "    </tr>\n",
       "    <tr>\n",
       "      <th>43644</th>\n",
       "      <td>Baby Driver</td>\n",
       "      <td>228.032744</td>\n",
       "    </tr>\n",
       "    <tr>\n",
       "      <th>24455</th>\n",
       "      <td>Big Hero 6</td>\n",
       "      <td>213.849907</td>\n",
       "    </tr>\n",
       "    <tr>\n",
       "      <th>26564</th>\n",
       "      <td>Deadpool</td>\n",
       "      <td>187.860492</td>\n",
       "    </tr>\n",
       "    <tr>\n",
       "      <th>26566</th>\n",
       "      <td>Guardians of the Galaxy Vol. 2</td>\n",
       "      <td>185.330992</td>\n",
       "    </tr>\n",
       "    <tr>\n",
       "      <th>14551</th>\n",
       "      <td>Avatar</td>\n",
       "      <td>185.070892</td>\n",
       "    </tr>\n",
       "    <tr>\n",
       "      <th>24351</th>\n",
       "      <td>John Wick</td>\n",
       "      <td>183.870374</td>\n",
       "    </tr>\n",
       "    <tr>\n",
       "      <th>23675</th>\n",
       "      <td>Gone Girl</td>\n",
       "      <td>154.801009</td>\n",
       "    </tr>\n",
       "  </tbody>\n",
       "</table>\n",
       "</div>"
      ],
      "text/plain": [
       "                                title  popularity\n",
       "30700                         Minions  547.488298\n",
       "33356                    Wonder Woman  294.337037\n",
       "42222            Beauty and the Beast  287.253654\n",
       "43644                     Baby Driver  228.032744\n",
       "24455                      Big Hero 6  213.849907\n",
       "26564                        Deadpool  187.860492\n",
       "26566  Guardians of the Galaxy Vol. 2  185.330992\n",
       "14551                          Avatar  185.070892\n",
       "24351                       John Wick  183.870374\n",
       "23675                       Gone Girl  154.801009"
      ]
     },
     "execution_count": 10,
     "metadata": {},
     "output_type": "execute_result"
    }
   ],
   "source": [
    "data[data['popularity'].notnull()][['title','popularity']].sort_values('popularity',ascending=False).head(10)"
   ]
  },
  {
   "cell_type": "markdown",
   "metadata": {},
   "source": [
    "Wooh! **Minions(Despicable Me)** on TOP with Huge diffrence. Did You know? Minions is also the second-highest-grossing animated film of all time. No HP in the list! But **Hermoine Granger** comes for the resque.\n",
    "And also I suggest you people to replace** head() with tail() **in the code to see Least popular movies! It's sort of Fun! Go ahead!"
   ]
  },
  {
   "cell_type": "markdown",
   "metadata": {},
   "source": [
    "Will come to the trend of movie runtime! You can extract details of Longest runtime movies and least runtime movies with same code as above by replacing the column with 'runtime'.\n",
    "But now I will concentrate on displaying the runtime trend over the century. We will use sns distplot to achieve this."
   ]
  },
  {
   "cell_type": "code",
   "execution_count": 11,
   "metadata": {},
   "outputs": [
    {
     "data": {
      "text/plain": [
       "<matplotlib.axes._subplots.AxesSubplot at 0x7f3124c77dd8>"
      ]
     },
     "execution_count": 11,
     "metadata": {},
     "output_type": "execute_result"
    },
    {
     "data": {
      "image/png": "[encoded data removed]",
      "text/plain": [
       "<matplotlib.figure.Figure at 0x7f3123e56f28>"
      ]
     },
     "metadata": {},
     "output_type": "display_data"
    }
   ],
   "source": [
    "sns.distplot(data[(data['runtime'] < 300) & (data['runtime'] > 0)]['runtime'])"
   ]
  },
  {
   "cell_type": "markdown",
   "metadata": {},
   "source": [
    "As the plot describes Most movies has an runtime between **90 mins to 120 mins. **\n",
    "\n",
    "Now let's make things a bit **naughty.** Will extract all movies which has been rated **Adult**"
   ]
  },
  {
   "cell_type": "code",
   "execution_count": 12,
   "metadata": {},
   "outputs": [
    {
     "data": {
      "text/html": [
       "<div>\n",
       "<style scoped>\n",
       "    .dataframe tbody tr th:only-of-type {\n",
       "        vertical-align: middle;\n",
       "    }\n",
       "\n",
       "    .dataframe tbody tr th {\n",
       "        vertical-align: top;\n",
       "    }\n",
       "\n",
       "    .dataframe thead th {\n",
       "        text-align: right;\n",
       "    }\n",
       "</style>\n",
       "<table border=\"1\" class=\"dataframe\">\n",
       "  <thead>\n",
       "    <tr style=\"text-align: right;\">\n",
       "      <th></th>\n",
       "      <th>title</th>\n",
       "      <th>year</th>\n",
       "      <th>vote_average</th>\n",
       "    </tr>\n",
       "  </thead>\n",
       "  <tbody>\n",
       "    <tr>\n",
       "      <th>19489</th>\n",
       "      <td>Erotic Nights of the Living Dead</td>\n",
       "      <td>1980</td>\n",
       "      <td>2.2</td>\n",
       "    </tr>\n",
       "    <tr>\n",
       "      <th>28701</th>\n",
       "      <td>Standoff</td>\n",
       "      <td>1998</td>\n",
       "      <td>4.8</td>\n",
       "    </tr>\n",
       "    <tr>\n",
       "      <th>31934</th>\n",
       "      <td>Electrical Girl</td>\n",
       "      <td>2001</td>\n",
       "      <td>0.0</td>\n",
       "    </tr>\n",
       "    <tr>\n",
       "      <th>32113</th>\n",
       "      <td>Diet of Sex</td>\n",
       "      <td>2014</td>\n",
       "      <td>4.0</td>\n",
       "    </tr>\n",
       "    <tr>\n",
       "      <th>39901</th>\n",
       "      <td>Amateur Porn Star Killer 2</td>\n",
       "      <td>2008</td>\n",
       "      <td>6.3</td>\n",
       "    </tr>\n",
       "    <tr>\n",
       "      <th>39902</th>\n",
       "      <td>The Band</td>\n",
       "      <td>2009</td>\n",
       "      <td>3.3</td>\n",
       "    </tr>\n",
       "    <tr>\n",
       "      <th>40574</th>\n",
       "      <td>The Sinful Dwarf</td>\n",
       "      <td>1973</td>\n",
       "      <td>5.8</td>\n",
       "    </tr>\n",
       "    <tr>\n",
       "      <th>41009</th>\n",
       "      <td>Adulterers</td>\n",
       "      <td>2016</td>\n",
       "      <td>5.2</td>\n",
       "    </tr>\n",
       "    <tr>\n",
       "      <th>43090</th>\n",
       "      <td>Half -Life</td>\n",
       "      <td>NaT</td>\n",
       "      <td>3.7</td>\n",
       "    </tr>\n",
       "  </tbody>\n",
       "</table>\n",
       "</div>"
      ],
      "text/plain": [
       "                                  title  year  vote_average\n",
       "19489  Erotic Nights of the Living Dead  1980           2.2\n",
       "28701                          Standoff  1998           4.8\n",
       "31934                   Electrical Girl  2001           0.0\n",
       "32113                       Diet of Sex  2014           4.0\n",
       "39901        Amateur Porn Star Killer 2  2008           6.3\n",
       "39902                          The Band  2009           3.3\n",
       "40574                  The Sinful Dwarf  1973           5.8\n",
       "41009                        Adulterers  2016           5.2\n",
       "43090                        Half -Life   NaT           3.7"
      ]
     },
     "execution_count": 12,
     "metadata": {},
     "output_type": "execute_result"
    }
   ],
   "source": [
    "data[data['adult'] == 'True'][['title','year','vote_average']]"
   ]
  },
  {
   "cell_type": "markdown",
   "metadata": {},
   "source": [
    "There you go! You have your list, Go and explore! (No offense to above movies,but i dont see any one with that level of content) But I can suggest you my favorite list. Watch **American Pie Series,Van wilder** series if you haven't yet.\n",
    "\n",
    "Let's come to the numbers again! Will see  **number of movie released year by year** with a plot. "
   ]
  },
  {
   "cell_type": "code",
   "execution_count": 13,
   "metadata": {},
   "outputs": [
    {
     "data": {
      "text/plain": [
       "<matplotlib.axes._subplots.AxesSubplot at 0x7f3124b9f780>"
      ]
     },
     "execution_count": 13,
     "metadata": {},
     "output_type": "execute_result"
    },
    {
     "data": {
      "image/png": "[encoded data removed]",
      "text/plain": [
       "<matplotlib.figure.Figure at 0x7f3124c87d30>"
      ]
     },
     "metadata": {},
     "output_type": "display_data"
    }
   ],
   "source": [
    "all_year = data.groupby('year')['title'].count()\n",
    "all_year.plot(figsize=(18,5))"
   ]
  },
  {
   "cell_type": "markdown",
   "metadata": {},
   "source": [
    "Ok Folk's that a wrap for now. Will add many more things in future.(We still have a lot of data to explore). \n",
    "\n",
    "As they say ** A Picture says a thousand words, A graph also tells a thousand rows **\n",
    "\n",
    "Comment your views and feedback. Will catch You soon.\n"
   ]
  }
 ],
 "metadata": {
  "kernelspec": {
   "display_name": "Python 3",
   "language": "python",
   "name": "python3"
  },
  "language_info": {
   "codemirror_mode": {
    "name": "ipython",
    "version": 3
   },
   "file_extension": ".py",
   "mimetype": "text/x-python",
   "name": "python",
   "nbconvert_exporter": "python",
   "pygments_lexer": "ipython3",
   "version": "3.6.3"
  }
 },
 "nbformat": 4,
 "nbformat_minor": 1
}
